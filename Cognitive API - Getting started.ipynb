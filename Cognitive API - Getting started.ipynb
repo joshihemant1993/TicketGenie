{
 "cells": [
  {
   "cell_type": "code",
   "execution_count": 2,
   "metadata": {
    "collapsed": false
   },
   "outputs": [
    {
     "name": "stdout",
     "output_type": "stream",
     "text": [
      "Key phrases 1: world\n",
      "Key phrases 2: foo world\n",
      "Key phrases three: world\n",
      "Languages: 1: English\n",
      "Languages: 2: English\n",
      "Languages: three: English\n",
      "Sentiment 1 score: 0.5\n",
      "Sentiment 2 score: 0.5\n",
      "Sentiment three score: 0.758567039772\n"
     ]
    }
   ],
   "source": [
    "# Simple program that demonstrates how to invoke Azure ML Text Analytics API: key phrases, language and sentiment detection.\n",
    "import urllib2\n",
    "import urllib\n",
    "import sys\n",
    "import base64\n",
    "import json\n",
    "\n",
    "# Azure portal URL.\n",
    "base_url = 'https://westus.api.cognitive.microsoft.com/'\n",
    "# Your account key goes here.\n",
    "account_key = '###'\n",
    "\n",
    "headers = {'Content-Type':'application/json', 'Ocp-Apim-Subscription-Key':account_key}\n",
    "            \n",
    "input_texts = '{\"documents\":[{\"id\":\"1\",\"text\":\"hello world\"},{\"id\":\"2\",\"text\":\"hello foo world\"},{\"id\":\"three\",\"text\":\"hello my world\"},]}'\n",
    "\n",
    "num_detect_langs = 1;\n",
    "\n",
    "# Detect key phrases.\n",
    "batch_keyphrase_url = base_url + 'text/analytics/v2.0/keyPhrases'\n",
    "req = urllib2.Request(batch_keyphrase_url, input_texts, headers) \n",
    "response = urllib2.urlopen(req)\n",
    "result = response.read()\n",
    "obj = json.loads(result)\n",
    "for keyphrase_analysis in obj['documents']:\n",
    "    print('Key phrases ' + str(keyphrase_analysis['id']) + ': ' + ', '.join(map(str,keyphrase_analysis['keyPhrases'])))\n",
    "\n",
    "# Detect language.\n",
    "language_detection_url = base_url + 'text/analytics/v2.0/languages' + ('?numberOfLanguagesToDetect=' + num_detect_langs if num_detect_langs > 1 else '')\n",
    "req = urllib2.Request(language_detection_url, input_texts, headers)\n",
    "response = urllib2.urlopen(req)\n",
    "result = response.read()\n",
    "obj = json.loads(result)\n",
    "for language in obj['documents']:\n",
    "    print('Languages: ' + str(language['id']) + ': ' + ','.join([lang['name'] for lang in language['detectedLanguages']]))\n",
    "\n",
    "# Detect sentiment.\n",
    "batch_sentiment_url = base_url + 'text/analytics/v2.0/sentiment'\n",
    "req = urllib2.Request(batch_sentiment_url, input_texts, headers) \n",
    "response = urllib2.urlopen(req)\n",
    "result = response.read()\n",
    "obj = json.loads(result)\n",
    "for sentiment_analysis in obj['documents']:\n",
    "    print('Sentiment ' + str(sentiment_analysis['id']) + ' score: ' + str(sentiment_analysis['score']))\n",
    "    "
   ]
  },
  {
   "cell_type": "code",
   "execution_count": null,
   "metadata": {
    "collapsed": true
   },
   "outputs": [],
   "source": []
  }
 ],
 "metadata": {
  "kernelspec": {
   "display_name": "Python 2",
   "language": "python",
   "name": "python2"
  },
  "language_info": {
   "codemirror_mode": {
    "name": "ipython",
    "version": 2
   },
   "file_extension": ".py",
   "mimetype": "text/x-python",
   "name": "python",
   "nbconvert_exporter": "python",
   "pygments_lexer": "ipython2",
   "version": "2.7.13"
  }
 },
 "nbformat": 4,
 "nbformat_minor": 2
}
