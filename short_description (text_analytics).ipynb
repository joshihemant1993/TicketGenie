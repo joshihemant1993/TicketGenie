{
 "cells": [
  {
   "cell_type": "code",
   "execution_count": 1,
   "metadata": {
    "collapsed": false
   },
   "outputs": [
    {
     "name": "stderr",
     "output_type": "stream",
     "text": [
      "/Users/rohanmanojthakkar/anaconda/lib/python2.7/site-packages/ipykernel/__main__.py:3: DeprecationWarning: the sets module is deprecated\n",
      "  app.launch_new_instance()\n"
     ]
    },
    {
     "name": "stdout",
     "output_type": "stream",
     "text": [
      "TICKET_NUMBER                  object\n",
      "TICKET_STATUS                  object\n",
      "SEVERITY                        int64\n",
      "CUST_AFFECT                     int64\n",
      "EQUIPMENT_ID                   object\n",
      "EQ_REGION                      object\n",
      "EQ_MARKET_CLUSTER              object\n",
      "EQ_MARKET                      object\n",
      "OPS_DISTRICT                   object\n",
      "OPS_ZONE                       object\n",
      "SHORT_DESCRIPTION              object\n",
      "PROBLEM_CATEGORY               object\n",
      "PROBLEM_SUBCATEGORY            object\n",
      "PROBLEM_DETAIL                 object\n",
      "ASSIGNED_TO                    object\n",
      "ASSIGNED_DEPARTMENT            object\n",
      "ASSIGNED_REGION                object\n",
      "ASSIGNED_MARKET                object\n",
      "ASSIGNED_DISTRICT_SUB_DEPT     object\n",
      "ASSIGNED_ZONE                  object\n",
      "CREATE_DATE                     int64\n",
      "REPEAT_TICKET                 float64\n",
      "RESOLUTION_CATEGORY            object\n",
      "RESOLUTION_TYPE                object\n",
      "RESOLUTION                     object\n",
      "RESOLUTION_NOTES               object\n",
      "RESOLVED_TIME                 float64\n",
      "CLOSED_TIME                   float64\n",
      "CLOB_FIELD_VALUE               object\n",
      "CLOB_FIELD_ID                   int64\n",
      "CLOB_FIELD_VALUE_1             object\n",
      "LOCATION_NAME                  object\n",
      "ADDRESS                        object\n",
      "ADDRESS2                       object\n",
      "CITY                           object\n",
      "STATE                          object\n",
      "ZIP_CODE                       object\n",
      "LAT_LONG_TYPE                 float64\n",
      "LATITUDE                       object\n",
      "LATITUDE_DECIMAL              float64\n",
      "LAT_DEG                       float64\n",
      "LAT_MIN                       float64\n",
      "LAT_SEC                       float64\n",
      "LAT_DIR                       float64\n",
      "LONGITUDE                      object\n",
      "LONGITUDE_DECIMAL             float64\n",
      "LONG_DEG                      float64\n",
      "LONG_MIN                      float64\n",
      "LONG_SEC                      float64\n",
      "LONG_DIR                      float64\n",
      "dtype: object\n"
     ]
    }
   ],
   "source": [
    "import pandas as pd\n",
    "import numpy as np\n",
    "from sets import Set\n",
    "data = pd.read_csv('HighLevelTicketLocationData_1.csv')\n",
    "\n",
    "print data.dtypes\n",
    "\n",
    "category_counter = {}\n",
    "\n",
    "categories = data['RESOLUTION_CATEGORY']\n",
    "types = data['RESOLUTION_TYPE']\n",
    "\n",
    "for i in xrange(len(categories)):\n",
    "    category = categories[i]\n",
    "    t = types[i]\n",
    "    if category in category_counter:\n",
    "        category_counter[category].add(t)\n",
    "    else:\n",
    "        category_counter[category] = set([t])\n",
    "\n",
    "del category_counter[np.nan]\n",
    "\n",
    "#print len(category_counter)\n",
    "\n",
    "#print category_counter"
   ]
  },
  {
   "cell_type": "code",
   "execution_count": 2,
   "metadata": {
    "collapsed": false
   },
   "outputs": [
    {
     "name": "stdout",
     "output_type": "stream",
     "text": [
      "7467\n",
      "5076\n",
      "{\"documents\":[{\"id\":\"0\",\"text\":\"MWR993040\"},{\"id\":\"1\",\"text\":\"NodeB/ BTS Restart Request\"},{\"id\":\"2\",\"text\":\"DVL00257 5 CORRELATED: NO CONTACT TO BOARDAlarm Monitored Attribute= rrh 141-0-0  Number Of Filtered Alarms Since Last Reporting= 0Last Filtering Time= 1970/01/01 00:00:00  (NE Time) Last Filtering Time=1969/12/31 19:00:00 000 (GMT -5:00)  Last Filtering \"},{\"id\":\"3\",\"text\":\"PRVDRIURC01 Centest comm down, Ping, No Answer.  Check CENTEST connections and connectors. Call MOBILITY at 866-299-6216 Opt 2 for test assist. Need laptop computer with terminal program and interface cable when you call MOBILITY. Do Not Power Cycle\"},{\"id\":\"4\",\"text\":\"Run and connect external alarms to PNC cabinet and LTE DUS\"},{\"id\":\"5\",\"text\":\"MWR993049\"},{\"id\":\"6\",\"text\":\"CRTNTX35CR9S01/DLLSDXM15205 5 UMTS ALU Small Cell CS Retainability Alert NA - UMTS ALU Small Cell CS Retainability Alert - SCORE 90.00 - FAILURES 3 - RRC_Rej_MaxUsers 0 - UC UC3 - ACCESS MODE openAccess - DATE: 20160211 HOUR: 1600\"},{\"id\":\"7\",\"text\":\"NWL05576 4 RBS DC MNAlarm Monitored Attribute= dbu 1-1-0  Number Of Filtered Alarms Since Last Reporting= 0Last Filtering Time= 1970/01/01 00:00:00  (NE Time) Last Filtering Time=1969/12/31 19:00:00 000 (GMT -5:00)  Last Filtering Type= none dbu 1-1-0\"},{\"id\":\"8\",\"text\":\"MNCHMOAQCRAR11/MOU2859 5 CORRELATED: Communication Subsystem Failure(306) FaultCode=OAM_0150_00100 AlarmID=5162552500666 : Loss of supervision\"},{\"id\":\"9\",\"text\":\"SOW: True Up Walk\n",
      "\n",
      "Non-service affecting\n",
      "\n",
      "2/16/16\n",
      "Daytime\"},{\"id\":\"10\",\"text\":\"DNVRCOMDCRAR24/COU4138 5 Equipment Malfunction(315) (Frame, 1) (DigitalShelf, 1) (DigitalShelfFan, 1) FaultCode=OneBTS_4037_00010 AlarmID=19520630763752 : equipmentFault\"},{\"id\":\"11\",\"text\":\"Antenna cut-over to the new tower\"},{\"id\":\"12\",\"text\":\"orldflya/ts35-hardware/0101091.52/hardware\"},{\"id\":\"13\",\"text\":\"DVL04307 5 CORRELATED: RFM COMM FAIL  COMM_FAILAlarm Monitored Attribute= rrh 151-0-0  Number Of Filtered Alarms Since Last Reporting= 0Last Filtering Time= 1970/01/01 00:00:00  (NE Time) Last Filtering Time=1969/12/31 19:00:00 000 (GMT -5:00)  Last Filte\"},{\"id\":\"14\",\"text\":\"<GLOBAL REPEAT> FCL04251 4 ExternalAlarm HwUnit=SAU,AlarmPort=12 RBS PWR AC SPD\"},{\"id\":\"15\",\"text\":\"MDL00344 5 ObjectCreation :  LTECellDown ( equipmentMalfunction ) on [ cell-MDL00344_9A_1 - network@MDL00344@eNBEquip@eNBInst@cell-MDL00344_9A_1|alarm-1472-3-698 ] Probable Cause: equipmentMalfunction\"},{\"id\":\"16\",\"text\":\"Meet with Mastec GC to troubleshoot ongoing RSSI problems.\"},{\"id\":\"17\",\"text\":\"VSWR/Sweep testing\"},{\"id\":\"18\",\"text\":\"Tyna:  MTSO please perform add order and work; also test with the lec to ensure the ds3 is up. Please note the log with test results. thanks.\"},{\"id\":\"19\",\"text\":\"02/12 Follow up LKMRFLMFCR9S01/ORLNFLM02116 5 CORRELATED: Unspecified Probable Cause(0) FaultCode=FGW_6205_00002 AlarmID=47280945926 : bsrOutOfService\"}]}\n"
     ]
    }
   ],
   "source": [
    "from sets import Set\n",
    "# Temporarily removing. Find a fix for this later - use Cognitive API with RF maybe?\n",
    "short_descriptions = data['SHORT_DESCRIPTION']\n",
    "print len(short_descriptions)\n",
    "print len(set(short_descriptions))\n",
    "#data['CLOB_FIELD_VALUE']\n",
    "#data['CLOB_FIELD_VALUE_1']\n",
    "\n",
    "input_text_short_descriptions = '{\"documents\":['\n",
    "count = 0\n",
    "unique_short_descriptions = list(set(short_descriptions))\n",
    "\n",
    "# since some descriptions are repeating, need not incur unncessary transactions\n",
    "for short_description in unique_short_descriptions:\n",
    "    input_text_short_descriptions += '{\"id\":\"'+str(count)+'\",\"text\":\"'+short_description+'\"},'\n",
    "    count += 1\n",
    "  \n",
    "    if count==20:\n",
    "        break\n",
    "        \n",
    "input_text_short_descriptions = input_text_short_descriptions[:-1]\n",
    "input_text_short_descriptions += ']}'\n",
    "#print input_text_short_descriptions"
   ]
  },
  {
   "cell_type": "code",
   "execution_count": 9,
   "metadata": {
    "collapsed": false
   },
   "outputs": [
    {
     "data": {
      "text/plain": [
       "0    ah01 and ah02 mab alarms\n",
       "1                        RSSI\n",
       "Name: SHORT_DESCRIPTION, dtype: object"
      ]
     },
     "execution_count": 9,
     "metadata": {},
     "output_type": "execute_result"
    }
   ],
   "source": [
    "data['SHORT_DESCRIPTION'][:2]"
   ]
  },
  {
   "cell_type": "code",
   "execution_count": 3,
   "metadata": {
    "collapsed": false
   },
   "outputs": [],
   "source": [
    "# Simple program that demonstrates how to invoke Azure ML Text Analytics API: key phrases, language and sentiment detection.\n",
    "import urllib2\n",
    "import urllib\n",
    "import sys\n",
    "import base64\n",
    "import json\n",
    "\n",
    "# Azure portal URL.\n",
    "base_url = 'https://westus.api.cognitive.microsoft.com/'\n",
    "# Your account key goes here.\n",
    "account_key = 'cd9250cd361f40eb9d50e38938ea1beb'\n",
    "\n",
    "headers = {'Content-Type':'application/json', 'Ocp-Apim-Subscription-Key':account_key}\n",
    "\n",
    "#input_texts = '{\"documents\":[{\"id\":\"1\",\"text\":\"MWR993040\"},{\"id\":\"2\",\"text\":\"NodeB/ BTS Restart Request\"},{\"id\":\"3\",\"text\":\"DVL00257 5 CORRELATED: NO CONTACT TO BOARDAlarm Monitored Attribute= rrh 141-0-0  Number Of Filtered Alarms Since Last Reporting= 0Last Filtering Time= 1970/01/01 00:00:00  (NE Time) Last Filtering Time=1969/12/31 19:00:00 000 (GMT -5:00)  Last Filtering \"},{\"id\":\"4\",\"text\":\"PRVDRIURC01 Centest comm down, Ping, No Answer.  Check CENTEST connections and connectors. Call MOBILITY at 866-299-6216 Opt 2 for test assist. Need laptop computer with terminal program and interface cable when you call MOBILITY. Do Not Power Cycle\"},{\"id\":\"5\",\"text\":\"Run and connect external alarms to PNC cabinet and LTE DUS\"},{\"id\":\"6\",\"text\":\"MWR993049\"},{\"id\":\"7\",\"text\":\"CRTNTX35CR9S01/DLLSDXM15205 5 UMTS ALU Small Cell CS Retainability Alert NA - UMTS ALU Small Cell CS Retainability Alert - SCORE 90.00 - FAILURES 3 - RRC_Rej_MaxUsers 0 - UC UC3 - ACCESS MODE openAccess - DATE: 20160211 HOUR: 1600\"},{\"id\":\"8\",\"text\":\"NWL05576 4 RBS DC MNAlarm Monitored Attribute= dbu 1-1-0  Number Of Filtered Alarms Since Last Reporting= 0Last Filtering Time= 1970/01/01 00:00:00  (NE Time) Last Filtering Time=1969/12/31 19:00:00 000 (GMT -5:00)  Last Filtering Type= none dbu 1-1-0\"},{\"id\":\"9\",\"text\":\"MNCHMOAQCRAR11/MOU2859 5 CORRELATED: Communication Subsystem Failure(306) FaultCode=OAM_0150_00100 AlarmID=5162552500666 : Loss of supervision\"}]}'\n",
    "\n",
    "\n",
    "num_detect_langs = 1;\n",
    "\n",
    "# Detect key phrases.\n",
    "batch_keyphrase_url = base_url + 'text/analytics/v2.0/keyPhrases'\n",
    "req = urllib2.Request(batch_keyphrase_url, input_text_short_descriptions, headers) \n",
    "\n",
    "response = urllib2.urlopen(req)\n",
    "result = response.read()\n",
    "obj = json.loads(result)"
   ]
  },
  {
   "cell_type": "code",
   "execution_count": 4,
   "metadata": {
    "collapsed": true
   },
   "outputs": [
    {
     "data": {
      "text/plain": [
       "{'02/12 Follow up LKMRFLMFCR9S01/ORLNFLM02116 5 CORRELATED: Unspecified Probable Cause(0) FaultCode=FGW_6205_00002 AlarmID=47280945926 : bsrOutOfService': ['Unspecified Probable Cause',\n",
       "  'FaultCode',\n",
       "  'ORLNFLM02116',\n",
       "  'FGW',\n",
       "  'AlarmID',\n",
       "  'LKMRFLMFCR9S01'],\n",
       " '<GLOBAL REPEAT> FCL04251 4 ExternalAlarm HwUnit=SAU,AlarmPort=12 RBS PWR AC SPD': ['AlarmPort',\n",
       "  'ExternalAlarm HwUnit',\n",
       "  'SAU',\n",
       "  'FCL04251'],\n",
       " 'Antenna cut-over to the new tower': ['Antenna cut', 'new tower'],\n",
       " 'CRTNTX35CR9S01/DLLSDXM15205 5 UMTS ALU Small Cell CS Retainability Alert NA - UMTS ALU Small Cell CS Retainability Alert - SCORE 90.00 - FAILURES 3 - RRC_Rej_MaxUsers 0 - UC UC3 - ACCESS MODE openAccess - DATE: 20160211 HOUR: 1600': ['UMTS ALU Small Cell CS Retainability Alert NA - UMTS ALU Small',\n",
       "  'CS Retainability Alert - SCORE',\n",
       "  'UC UC3 - ACCESS MODE openAccess - DATE',\n",
       "  'MaxUsers',\n",
       "  'Rej',\n",
       "  'FAILURES',\n",
       "  'RRC',\n",
       "  'HOUR',\n",
       "  'DLLSDXM15205'],\n",
       " 'DNVRCOMDCRAR24/COU4138 5 Equipment Malfunction(315) (Frame, 1) (DigitalShelf, 1) (DigitalShelfFan, 1) FaultCode=OneBTS_4037_00010 AlarmID=19520630763752 : equipmentFault': ['OneBTS',\n",
       "  'Equipment Malfunction',\n",
       "  'DigitalShelfFan',\n",
       "  'AlarmID',\n",
       "  'Frame',\n",
       "  'DNVRCOMDCRAR24',\n",
       "  'COU4138'],\n",
       " 'DVL00257 5 CORRELATED: NO CONTACT TO BOARDAlarm Monitored Attribute= rrh 141-0-0  Number Of Filtered Alarms Since Last Reporting= 0Last Filtering Time= 1970/01/01 00:00:00  (NE Time) Last Filtering Time=1969/12/31 19:00:00 000 (GMT -5:00)  Last Filtering ': ['Filtering Time',\n",
       "  'CONTACT',\n",
       "  'rrh',\n",
       "  'Reporting',\n",
       "  'NE Time',\n",
       "  'Attribute',\n",
       "  'BOARDAlarm',\n",
       "  'Number Of Filtered Alarms',\n",
       "  'DVL00257',\n",
       "  'GMT'],\n",
       " 'DVL04307 5 CORRELATED: RFM COMM FAIL  COMM_FAILAlarm Monitored Attribute= rrh 151-0-0  Number Of Filtered Alarms Since Last Reporting= 0Last Filtering Time= 1970/01/01 00:00:00  (NE Time) Last Filtering Time=1969/12/31 19:00:00 000 (GMT -5:00)  Last Filte': ['RFM COMM FAIL  COMM',\n",
       "  'Filtering Time',\n",
       "  'NE Time',\n",
       "  'Reporting',\n",
       "  'FAILAlarm Monitored Attribute',\n",
       "  'rrh',\n",
       "  'Number Of Filtered Alarms',\n",
       "  'DVL04307',\n",
       "  'GMT'],\n",
       " 'MDL00344 5 ObjectCreation :  LTECellDown ( equipmentMalfunction ) on [ cell-MDL00344_9A_1 - network@MDL00344@eNBEquip@eNBInst@cell-MDL00344_9A_1|alarm-1472-3-698 ] Probable Cause: equipmentMalfunction': ['cell-MDL00344',\n",
       "  'equipmentMalfunction',\n",
       "  'eNBEquip',\n",
       "  'eNBInst',\n",
       "  'LTECellDown',\n",
       "  'ObjectCreation',\n",
       "  'network',\n",
       "  'Probable Cause',\n",
       "  'alarm'],\n",
       " 'MNCHMOAQCRAR11/MOU2859 5 CORRELATED: Communication Subsystem Failure(306) FaultCode=OAM_0150_00100 AlarmID=5162552500666 : Loss of supervision': ['Communication Subsystem Failure',\n",
       "  'AlarmID',\n",
       "  'FaultCode',\n",
       "  'MOU2859',\n",
       "  'OAM'],\n",
       " 'MWR993040': ['MWR993040'],\n",
       " 'MWR993049': ['MWR993049'],\n",
       " 'Meet with Mastec GC to troubleshoot ongoing RSSI problems.': ['Mastec GC',\n",
       "  'ongoing RSSI problems'],\n",
       " 'NWL05576 4 RBS DC MNAlarm Monitored Attribute= dbu 1-1-0  Number Of Filtered Alarms Since Last Reporting= 0Last Filtering Time= 1970/01/01 00:00:00  (NE Time) Last Filtering Time=1969/12/31 19:00:00 000 (GMT -5:00)  Last Filtering Type= none dbu 1-1-0': ['Filtering Time',\n",
       "  'dbu',\n",
       "  'Reporting',\n",
       "  'NE Time',\n",
       "  'RBS DC MNAlarm',\n",
       "  'Attribute',\n",
       "  'Filtering Type',\n",
       "  'NWL05576',\n",
       "  'Number Of Filtered Alarms',\n",
       "  'GMT'],\n",
       " 'NodeB/ BTS Restart Request': ['BTS Restart Request'],\n",
       " 'PRVDRIURC01 Centest comm down, Ping, No Answer.  Check CENTEST connections and connectors. Call MOBILITY at 866-299-6216 Opt 2 for test assist. Need laptop computer with terminal program and interface cable when you call MOBILITY. Do Not Power Cycle': ['PRVDRIURC01 Centest comm',\n",
       "  'Ping',\n",
       "  'terminal program',\n",
       "  'CENTEST connections',\n",
       "  'interface cable',\n",
       "  'test assist',\n",
       "  'Power Cycle',\n",
       "  'Need laptop computer',\n",
       "  'connectors',\n",
       "  'Answer'],\n",
       " 'Run and connect external alarms to PNC cabinet and LTE DUS': ['external alarms',\n",
       "  'PNC cabinet'],\n",
       " 'SOW: True Up Walk\\n\\nNon-service affecting\\n\\n2/16/16\\nDaytime': ['SOW',\n",
       "  'Walk',\n",
       "  'Non-service',\n",
       "  'Daytime'],\n",
       " 'Tyna:  MTSO please perform add order and work; also test with the lec to ensure the ds3 is up. Please note the log with test results. thanks.': ['work',\n",
       "  'MTSO',\n",
       "  'order',\n",
       "  'log',\n",
       "  'test results',\n",
       "  'lec'],\n",
       " 'VSWR/Sweep testing': ['Sweep testing'],\n",
       " 'orldflya/ts35-hardware/0101091.52/hardware': ['ts35-hardware', 'orldflya']}"
      ]
     },
     "execution_count": 4,
     "metadata": {},
     "output_type": "execute_result"
    }
   ],
   "source": [
    "description_to_keywords = {}\n",
    "\n",
    "for keyphrase_analysis in obj['documents']:\n",
    "    description_to_keywords[unique_short_descriptions[int(keyphrase_analysis['id'])]] = map(str,keyphrase_analysis['keyPhrases'])\n",
    "    #print('Key phrases ' + str(keyphrase_analysis['id']) + ': ' + ', '.join(map(str,keyphrase_analysis['keyPhrases'])))\n",
    "\n",
    "description_to_keywords"
   ]
  },
  {
   "cell_type": "code",
   "execution_count": 5,
   "metadata": {
    "collapsed": false
   },
   "outputs": [],
   "source": [
    "from sklearn.feature_extraction.text import CountVectorizer\n",
    "\n",
    "all_keywords_list = description_to_keywords.values()\n",
    "\n",
    "#for short_description in description_to_keywords:\n",
    "#for keyword_list in all_keywords_list:\n",
    "all_keywords = Set()\n",
    "\n",
    "for keyword_list in all_keywords_list:\n",
    "    for keyword in keyword_list:\n",
    "        if keyword not in all_keywords:\n",
    "            all_keywords.add(keyword)\n",
    "        \n",
    "for keyword in all_keywords:\n",
    "    data[keyword] = [descr.count(keyword) for descr in data['SHORT_DESCRIPTION']]"
   ]
  },
  {
   "cell_type": "code",
   "execution_count": 7,
   "metadata": {
    "collapsed": false
   },
   "outputs": [
    {
     "data": {
      "text/plain": [
       "TICKET_NUMBER                              object\n",
       "TICKET_STATUS                              object\n",
       "SEVERITY                                    int64\n",
       "CUST_AFFECT                                 int64\n",
       "EQUIPMENT_ID                               object\n",
       "EQ_REGION                                  object\n",
       "EQ_MARKET_CLUSTER                          object\n",
       "EQ_MARKET                                  object\n",
       "OPS_DISTRICT                               object\n",
       "OPS_ZONE                                   object\n",
       "SHORT_DESCRIPTION                          object\n",
       "PROBLEM_CATEGORY                           object\n",
       "PROBLEM_SUBCATEGORY                        object\n",
       "PROBLEM_DETAIL                             object\n",
       "ASSIGNED_TO                                object\n",
       "ASSIGNED_DEPARTMENT                        object\n",
       "ASSIGNED_REGION                            object\n",
       "ASSIGNED_MARKET                            object\n",
       "ASSIGNED_DISTRICT_SUB_DEPT                 object\n",
       "ASSIGNED_ZONE                              object\n",
       "CREATE_DATE                                 int64\n",
       "REPEAT_TICKET                             float64\n",
       "RESOLUTION_CATEGORY                        object\n",
       "RESOLUTION_TYPE                            object\n",
       "RESOLUTION                                 object\n",
       "RESOLUTION_NOTES                           object\n",
       "RESOLVED_TIME                             float64\n",
       "CLOSED_TIME                               float64\n",
       "CLOB_FIELD_VALUE                           object\n",
       "CLOB_FIELD_ID                               int64\n",
       "                                           ...   \n",
       "work                                        int64\n",
       "Unspecified Probable Cause                  int64\n",
       "PNC cabinet                                 int64\n",
       "Walk                                        int64\n",
       "NE Time                                     int64\n",
       "MaxUsers                                    int64\n",
       "ts35-hardware                               int64\n",
       "Number Of Filtered Alarms                   int64\n",
       "ongoing RSSI problems                       int64\n",
       "orldflya                                    int64\n",
       "connectors                                  int64\n",
       "CONTACT                                     int64\n",
       "RBS DC MNAlarm                              int64\n",
       "MTSO                                        int64\n",
       "RFM COMM FAIL  COMM                         int64\n",
       "COU4138                                     int64\n",
       "SOW                                         int64\n",
       "Need laptop computer                        int64\n",
       "FAILURES                                    int64\n",
       "LTECellDown                                 int64\n",
       "PRVDRIURC01 Centest comm                    int64\n",
       "Filtering Time                              int64\n",
       "DVL00257                                    int64\n",
       "BOARDAlarm                                  int64\n",
       "UC UC3 - ACCESS MODE openAccess - DATE      int64\n",
       "Equipment Malfunction                       int64\n",
       "alarm                                       int64\n",
       "MOU2859                                     int64\n",
       "order                                       int64\n",
       "Antenna cut                                 int64\n",
       "dtype: object"
      ]
     },
     "execution_count": 7,
     "metadata": {},
     "output_type": "execute_result"
    }
   ],
   "source": [
    "data.dtypes"
   ]
  },
  {
   "cell_type": "code",
   "execution_count": null,
   "metadata": {
    "collapsed": true
   },
   "outputs": [],
   "source": [
    "# Run the RF model here now with these newly available feature columns of tags, once you have enough capacity on your Azure API"
   ]
  }
 ],
 "metadata": {
  "kernelspec": {
   "display_name": "Python 2",
   "language": "python",
   "name": "python2"
  },
  "language_info": {
   "codemirror_mode": {
    "name": "ipython",
    "version": 2
   },
   "file_extension": ".py",
   "mimetype": "text/x-python",
   "name": "python",
   "nbconvert_exporter": "python",
   "pygments_lexer": "ipython2",
   "version": "2.7.13"
  }
 },
 "nbformat": 4,
 "nbformat_minor": 2
}
